{
 "cells": [
  {
   "cell_type": "markdown",
   "metadata": {
    "id": "lLMDGooqcWGg"
   },
   "source": [
    "# Contest: Connect 4\n",
    "\n",
    "**Release Date:** 16 September 2024\n",
    "\n",
    "**Due Date:** 23:59, 9 November 2024"
   ]
  },
  {
   "cell_type": "markdown",
   "metadata": {
    "id": "gFWBI2aWcsOM"
   },
   "source": [
    "# Overview\n",
    "\n",
    "Connect 4 is a classic two-player strategy game played on a grid comprising 6 rows and 7 columns. Players take turns dropping discs into one of the columns, where each disc falls to the lowest available position within the chosen column. The objective is to be the first player to align four consecutive discs vertically, horizontally, or diagonally. If the board becomes completely filled without any player forming a four-disc alignment, the game results in a tie.\n",
    "\n",
    "In this contest, you will apply AI/ML techniques to design your own agent for playing Connect 4. You are free to use any AI/ML algorithms and datasets, and can train a machine learning model to improve your agent's performance.\n",
    "\n",
    "Firstly, you will be playing against some baby agents, then some cleverer agents, and finally participate in the competition among all students! Isn't it exciting to see your agents competing against your friends and classmates? Don't worry if you can't rank high in the competition: the ranking will not play a significant role in the grade. \n",
    "\n",
    "Have fun in the Contest!"
   ]
  },
  {
   "cell_type": "markdown",
   "metadata": {},
   "source": [
    "### Required Files\n",
    "\n",
    "- contest.py\n",
    "- utils.py\n",
    "- simulator.py\n",
    "- pygame_simulator.py\n",
    "- game_utils.py\n",
    "- zero_game.py"
   ]
  },
  {
   "cell_type": "markdown",
   "metadata": {},
   "source": [
    "### Plagiarism Policy\n",
    "\n",
    "Please refer to our [Course Policies](https://canvas.nus.edu.sg/courses/62323/pages/course-policies)"
   ]
  },
  {
   "cell_type": "markdown",
   "metadata": {},
   "source": [
    "### Post-Contest Survey\n",
    "\n",
    "Your feedback is important to us! After completing Contest, please take a moment to share your thoughts by filling out this [survey](https://coursemology.org/courses/2851/surveys/2393)."
   ]
  },
  {
   "cell_type": "markdown",
   "metadata": {},
   "source": [
    "### Notes\n",
    "\n",
    "While it is possible to write and run Python code directly in Jupyter notebook, we recommend that you do this Contest with an IDE using the `.py` file provided. An IDE will make debugging significantly easier."
   ]
  },
  {
   "cell_type": "markdown",
   "metadata": {
    "id": "3zYCsHsde_Dc"
   },
   "source": [
    "# Part 1: Game Environment\n",
    "\n",
    "We provide a basic game environment that enables your agent to interact with the Connect 4 board. In this section, we will walk you through the game environment and the game mechanics of Connect 4, giving you the tools you need to start developing and implementing your own agent."
   ]
  },
  {
   "cell_type": "markdown",
   "metadata": {
    "id": "LNTITqxCfS8c"
   },
   "source": [
    "## 1.0 Introduction to Connect 4\n",
    "\n",
    "We begin by using the `initialize` function from the `game_utils` module to set up a new Connect Four game board, which is represented as a 2D numpy array. Although some versions of the game allow for custom grid sizes, we will use the default 6x7 configuration, which is the standard for this contest. Our APIs are designed to be similar to those in [Gymnasium](https://gymnasium.farama.org/index.html), drawing inspiration from their approach. We will be using a game environment with the same API to test your agent.\n",
    "\n",
    "To access the board's dimensions, you can use the `shape` attribute of the `np.array`, which returns a tuple representing the number of rows and columns."
   ]
  },
  {
   "cell_type": "code",
   "execution_count": 1,
   "metadata": {},
   "outputs": [
    {
     "name": "stdout",
     "output_type": "stream",
     "text": [
      "(6, 7)\n"
     ]
    }
   ],
   "source": [
    "from game_utils import initialize, step, get_valid_col_id\n",
    "\n",
    "c4_board = initialize()\n",
    "print(c4_board.shape)"
   ]
  },
  {
   "cell_type": "markdown",
   "metadata": {
    "id": "v1sxzgdefXjs"
   },
   "source": [
    "### 1.0.1 Printing the board\n",
    "\n",
    "Once the board is initialized using the `initialize` function from the `game_utils` module, you can print the 2D numpy array to visualize the current game state. The board consists of 7 columns and 6 rows, with each empty cell represented by `0`, indicating that no pieces have been placed yet. To display the board, simply use the `print` function on the initialized board array.\n",
    "\n",
    "We use the following indexing system for the Connect 4 board, where the top row is indexed as the 0th row and the leftmost column is indexed as the 0th column. These indices are referred to as `row_id` and `col_id`, respectively.\n",
    "\n",
    "|     |  0  |  1  |  2  |  3  |  4  |  5  |  6  |\n",
    "| --- | --- | --- | --- | --- | --- | --- | --- |\n",
    "| **0** |  0  |  0  |  0  |  0  |  0  |  0  |  0  |\n",
    "| **1** |  0  |  0  |  0  |  0  |  0  |  0  |  0  |\n",
    "| **2** |  0  |  0  |  0  |  0  |  0  |  0  |  0  |\n",
    "| **3** |  0  |  0  |  0  |  0  |  0  |  0  |  0  |\n",
    "| **4** |  0  |  0  |  0  |  0  |  0  |  0  |  0  |\n",
    "| **5** |  0  |  0  |  0  |  0  |  0  |  0  |  0  |\n",
    "\n",
    "The output mirrors the appearance of the physical Connect 4 game."
   ]
  },
  {
   "cell_type": "code",
   "execution_count": 2,
   "metadata": {},
   "outputs": [
    {
     "name": "stdout",
     "output_type": "stream",
     "text": [
      "[[0 0 0 0 0 0 0]\n",
      " [0 0 0 0 0 0 0]\n",
      " [0 0 0 0 0 0 0]\n",
      " [0 0 0 0 0 0 0]\n",
      " [0 0 0 0 0 0 0]\n",
      " [0 0 0 0 0 0 0]]\n"
     ]
    }
   ],
   "source": [
    "print(c4_board)"
   ]
  },
  {
   "cell_type": "markdown",
   "metadata": {},
   "source": [
    "### 1.0.2 Making the first move\n",
    "\n",
    "Connect 4 is a two-player game where Player 1 and Player 2 take turns dropping pieces onto the game board. In our contest and against our agents, your agent will be fairly assigned as either Player 1 or Player 2. We will adhere to the rule that Player 1 always makes the first move.\n",
    "\n",
    "Your agent can call `get_valid_col_id` to retrieve a list of valid `col_id`s for the current round. As expected, the list of possible actions will consist of all available `col_id`s where a move can be made."
   ]
  },
  {
   "cell_type": "code",
   "execution_count": 3,
   "metadata": {},
   "outputs": [
    {
     "data": {
      "text/plain": [
       "array([0, 1, 2, 3, 4, 5, 6], dtype=int64)"
      ]
     },
     "execution_count": 3,
     "metadata": {},
     "output_type": "execute_result"
    }
   ],
   "source": [
    "get_valid_col_id(c4_board)"
   ]
  },
  {
   "cell_type": "markdown",
   "metadata": {},
   "source": [
    "Player 1 decides to place a piece in the 2nd column by calling the `step` function. In this case, the `step` function processes Player 1's move (indicated by `player_id=1`) in column 2 (indicated by `col_id=2`) on the Connect Four board represented by `c4_board`. The `in_place=True` argument ensures that the move is applied directly to the existing board (`c4_board`) without creating a new copy. When `in_place=False`, the function returns a new board with the move applied, leaving the original board unchanged. This flexibility allows you to choose whether to modify the current board or work with a copy for additional operations.\n",
    "\n",
    "In the example below, we execute a game step where Player 1 places a piece in column 2, with the move applied directly to the existing board. As a result, the function updates and returns the current game board state, reflecting Player 1's move."
   ]
  },
  {
   "cell_type": "code",
   "execution_count": 4,
   "metadata": {},
   "outputs": [
    {
     "data": {
      "text/plain": [
       "array([[0, 0, 0, 0, 0, 0, 0],\n",
       "       [0, 0, 0, 0, 0, 0, 0],\n",
       "       [0, 0, 0, 0, 0, 0, 0],\n",
       "       [0, 0, 0, 0, 0, 0, 0],\n",
       "       [0, 0, 0, 0, 0, 0, 0],\n",
       "       [0, 0, 1, 0, 0, 0, 0]])"
      ]
     },
     "execution_count": 4,
     "metadata": {},
     "output_type": "execute_result"
    }
   ],
   "source": [
    "step(c4_board, col_id=2, player_id=1, in_place=True)"
   ]
  },
  {
   "cell_type": "markdown",
   "metadata": {},
   "source": [
    "After this action, we can print the updated state of the board by calling the `print` function on the board object. As expected, Player 1's piece will be placed in the last row in column 2 (`col_id=2`), occupying the bottom row."
   ]
  },
  {
   "cell_type": "code",
   "execution_count": 5,
   "metadata": {},
   "outputs": [
    {
     "name": "stdout",
     "output_type": "stream",
     "text": [
      "[[0 0 0 0 0 0 0]\n",
      " [0 0 0 0 0 0 0]\n",
      " [0 0 0 0 0 0 0]\n",
      " [0 0 0 0 0 0 0]\n",
      " [0 0 0 0 0 0 0]\n",
      " [0 0 1 0 0 0 0]]\n"
     ]
    }
   ],
   "source": [
    "print(c4_board)"
   ]
  },
  {
   "cell_type": "markdown",
   "metadata": {},
   "source": [
    "### 1.0.3 Making valid moves\n",
    "\n",
    "Here, we stress the importance of ensuring your agent consistently makes valid moves. Below, we outline several common types of invalid moves your agent must avoid (this list is non-exhaustive). If your agent attempts an invalid move, the contest system will randomly select a move on its behalf, potentially resulting in penalties or even disqualification.\n",
    "\n",
    "Although some of these scenarios are technically impossible in the contest—since your agent only returns the action and the contest system executes it—this knowledge is crucial for understanding the environment, especially when experimenting locally."
   ]
  },
  {
   "cell_type": "markdown",
   "metadata": {},
   "source": [
    "#### Valid actions\n",
    "\n",
    "Eventually, as the board fills up, some actions will become invalid. For instance, if all available spaces in a column are occupied, no more pieces can be placed in that column.\n",
    "\n",
    "In this example, we simulate a gameplay between Player 1 and Player 2, where both players consecutively place pieces in `col_id=2`."
   ]
  },
  {
   "cell_type": "code",
   "execution_count": 6,
   "metadata": {},
   "outputs": [
    {
     "name": "stdout",
     "output_type": "stream",
     "text": [
      "[[0 0 2 0 0 0 0]\n",
      " [0 0 1 0 0 0 0]\n",
      " [0 0 2 0 0 0 0]\n",
      " [0 0 1 0 0 0 0]\n",
      " [0 0 2 0 0 0 0]\n",
      " [0 0 1 0 0 0 0]]\n"
     ]
    }
   ],
   "source": [
    "step(c4_board, col_id=2, player_id=2, in_place=True)\n",
    "step(c4_board, col_id=2, player_id=1, in_place=True)\n",
    "step(c4_board, col_id=2, player_id=2, in_place=True)\n",
    "step(c4_board, col_id=2, player_id=1, in_place=True)\n",
    "step(c4_board, col_id=2, player_id=2, in_place=True)\n",
    "print(c4_board)"
   ]
  },
  {
   "cell_type": "markdown",
   "metadata": {},
   "source": [
    "Once the column is full, you'll notice that `col_id=2` is no longer part of the list of valid actions, as no more pieces can be placed in that column."
   ]
  },
  {
   "cell_type": "code",
   "execution_count": 7,
   "metadata": {},
   "outputs": [
    {
     "name": "stdout",
     "output_type": "stream",
     "text": [
      "[0 1 3 4 5 6]\n"
     ]
    }
   ],
   "source": [
    "print(get_valid_col_id(c4_board))"
   ]
  },
  {
   "cell_type": "markdown",
   "metadata": {},
   "source": [
    "Once a column is full, any further attempts to place a piece in that column will result in an invalid action. If your agent attempts such an invalid move, a random action will be executed on your agent's behalf."
   ]
  },
  {
   "cell_type": "code",
   "execution_count": 8,
   "metadata": {},
   "outputs": [
    {
     "ename": "ValueError",
     "evalue": "Invalid action: column 2 is already full.",
     "output_type": "error",
     "traceback": [
      "\u001b[1;31m---------------------------------------------------------------------------\u001b[0m",
      "\u001b[1;31mValueError\u001b[0m                                Traceback (most recent call last)",
      "Cell \u001b[1;32mIn[8], line 1\u001b[0m\n\u001b[1;32m----> 1\u001b[0m \u001b[43mstep\u001b[49m\u001b[43m(\u001b[49m\u001b[43mc4_board\u001b[49m\u001b[43m,\u001b[49m\u001b[43m \u001b[49m\u001b[43mcol_id\u001b[49m\u001b[38;5;241;43m=\u001b[39;49m\u001b[38;5;241;43m2\u001b[39;49m\u001b[43m,\u001b[49m\u001b[43m \u001b[49m\u001b[43mplayer_id\u001b[49m\u001b[38;5;241;43m=\u001b[39;49m\u001b[38;5;241;43m1\u001b[39;49m\u001b[43m,\u001b[49m\u001b[43m \u001b[49m\u001b[43min_place\u001b[49m\u001b[38;5;241;43m=\u001b[39;49m\u001b[38;5;28;43;01mTrue\u001b[39;49;00m\u001b[43m)\u001b[49m\n",
      "File \u001b[1;32mc:\\Users\\jeff6\\Desktop\\NUS Y2S1\\CS2109S\\contest\\game_utils.py:106\u001b[0m, in \u001b[0;36mstep\u001b[1;34m(state, col_id, player_id, in_place)\u001b[0m\n\u001b[0;32m    103\u001b[0m         \u001b[38;5;28;01mbreak\u001b[39;00m\n\u001b[0;32m    105\u001b[0m \u001b[38;5;28;01mif\u001b[39;00m row_id \u001b[38;5;241m==\u001b[39m \u001b[38;5;28;01mNone\u001b[39;00m:\n\u001b[1;32m--> 106\u001b[0m     \u001b[38;5;28;01mraise\u001b[39;00m \u001b[38;5;167;01mValueError\u001b[39;00m(\u001b[38;5;124mf\u001b[39m\u001b[38;5;124m\"\u001b[39m\u001b[38;5;124mInvalid action: column \u001b[39m\u001b[38;5;132;01m{\u001b[39;00mcol_id\u001b[38;5;132;01m}\u001b[39;00m\u001b[38;5;124m is already full.\u001b[39m\u001b[38;5;124m\"\u001b[39m)\n\u001b[0;32m    108\u001b[0m temp_board[row_id][col_id] \u001b[38;5;241m=\u001b[39m player_id\n\u001b[0;32m    110\u001b[0m \u001b[38;5;28;01mreturn\u001b[39;00m temp_board\n",
      "\u001b[1;31mValueError\u001b[0m: Invalid action: column 2 is already full."
     ]
    }
   ],
   "source": [
    "step(c4_board, col_id=2, player_id=1, in_place=True)"
   ]
  },
  {
   "cell_type": "markdown",
   "metadata": {},
   "source": [
    "### 1.0.4 Interfacing with the Contest\n",
    "\n",
    "The contest system will initialize your agent by calling the `__init__` function with the assigned `player_id`. During each round of the game, your agent will be invoked via `make_move(state)`, where the current state of the game is provided as input for your agent to decide its move. The `state` is a read-only 2D numpy array representing the game board, where:\n",
    "- `0` represents an empty cell,\n",
    "- `1` represents Player 1's piece,\n",
    "- `2` represents Player 2's piece.\n",
    "\n",
    "This ensures your agent receives the most up-to-date game state while maintaining immutability of the board."
   ]
  },
  {
   "cell_type": "markdown",
   "metadata": {},
   "source": [
    "#### Example - ZeroAgent\n",
    "\n",
    "In this example, we define a basic agent called `ZeroAgent`, which always selects the 0th column for its move, regardless of the current game state. The agent does not perform any strategic analysis and will always attempt to place a piece in the first column when invoked. It's important to note that this agent may attempt invalid moves if the 0th column is already full, as it does not adapt to the board's condition."
   ]
  },
  {
   "cell_type": "code",
   "execution_count": 9,
   "metadata": {},
   "outputs": [],
   "source": [
    "class ZeroAgent(object):\n",
    "    def __init__(self, player_id=1):\n",
    "        pass\n",
    "    def make_move(self, state):\n",
    "        return 0"
   ]
  },
  {
   "cell_type": "markdown",
   "metadata": {},
   "source": [
    "We will now demonstrate the flow of the contest using the `ZeroAgent`:\n",
    "\n",
    "1. The contest initializes both your agent (Player 1) and the opponent's agent (Player 2).\n",
    "2. The contest sets up the initial game board state.\n",
    "3. The contest prompts Player 1 to provide its next move.\n",
    "4. The contest applies Player 1's move to the game board.\n",
    "\n",
    "The contest will then repeat steps 3 and 4, alternating between Player 1 and Player 2, until the game concludes with either a win or a draw."
   ]
  },
  {
   "cell_type": "code",
   "execution_count": 10,
   "metadata": {},
   "outputs": [
    {
     "data": {
      "text/plain": [
       "array([[0, 0, 0, 0, 0, 0, 0],\n",
       "       [0, 0, 0, 0, 0, 0, 0],\n",
       "       [0, 0, 0, 0, 0, 0, 0],\n",
       "       [0, 0, 0, 0, 0, 0, 0],\n",
       "       [0, 0, 0, 0, 0, 0, 0],\n",
       "       [1, 0, 0, 0, 0, 0, 0]])"
      ]
     },
     "execution_count": 10,
     "metadata": {},
     "output_type": "execute_result"
    }
   ],
   "source": [
    "# Step 1\n",
    "agent1 = ZeroAgent(player_id=1) # Yours, Player 1\n",
    "agent2 = ZeroAgent(player_id=2) # Opponent, Player 2\n",
    "\n",
    "# Step 2\n",
    "contest_board = initialize()\n",
    "\n",
    "# Step 3\n",
    "p1_board = contest_board.view()\n",
    "p1_board.flags.writeable = False\n",
    "move1 = agent1.make_move(p1_board)\n",
    "\n",
    "# Step 4\n",
    "step(contest_board, col_id=move1, player_id=1, in_place=True)"
   ]
  },
  {
   "cell_type": "markdown",
   "metadata": {},
   "source": [
    "The template code for implementing your AI agent is provided in the tasks outlined in the following sections."
   ]
  },
  {
   "cell_type": "markdown",
   "metadata": {},
   "source": [
    "## 1.1 Using the Simulator\n",
    "\n",
    "We provide a local game simulator to help you debug, test, and play against your agent. While using the simulator is optional, it is highly recommended as an essential tool for testing and refining your agent’s strategy. Keep in mind that although your agent may function correctly in the local simulator, it may not fully comply with all the limits and requirements of the contest, as the simulator does not enforce every rule or constraint. \n",
    "\n",
    "### 1.1.1 Using the CLI Simulator (Recommended)\n",
    "\n",
    "In this example, we demonstrate how to set up and run the CLI simulator for a Connect 4 game. You'll begin by importing the `GameController` from the `simulator` package and two `HumanAgent` instances to represent the players. The game board is managed using the `ConnectFour` class, which is imported from the `connect_four` module and creates the standard 6x7 grid where the game is played. This setup allows you to simulate a two-player Connect 4 match directly in the terminal. To test your custom AI agent, you can replace one of the `HumanAgent` instances with your `AIAgent`, allowing you to see how your agent performs against human players or other agents.\n",
    "\n",
    "In each round, your agent will receive a read-only view of the current game board as an observation. Using this state, your agent can compute and decide its next move.\n",
    "\n",
    "**Note:** The CLI simulator is best run outside of Jupyter Notebook, as it requires command-line interaction for human players."
   ]
  },
  {
   "cell_type": "code",
   "execution_count": 1,
   "metadata": {},
   "outputs": [],
   "source": [
    "from simulator import GameController, HumanAgent\n",
    "from connect_four import ConnectFour\n",
    "\n",
    "board = ConnectFour()\n",
    "game = GameController(board=board, agents=[HumanAgent(1), HumanAgent(2)])\n",
    "# game.run()"
   ]
  },
  {
   "cell_type": "markdown",
   "metadata": {},
   "source": [
    "### 1.1.2 Using the PyGame Simulator (Optional)\n",
    "\n",
    "For your convenience, we’ve implemented an optional GUI version of the simulator. To run the PyGame simulator, you’ll need to install the `pygame` package. For a quick and easy setup, we’ve included the installation command for pip below:\n",
    "\n",
    "```bash\n",
    "pip install pygame\n",
    "```"
   ]
  },
  {
   "cell_type": "markdown",
   "metadata": {},
   "source": [
    "This code snippet is similar to the CLI simulator, but it generates a GUI for interacting with your agent, so it cannot be run within Jupyter Notebook. For example, we used the previously introduced `ZeroAgent`, an agent that always selects the 0th column. You can find this example in the `zero_game.py` file. To see the agent in action and play against it, simply run:\n",
    "\n",
    "```bash\n",
    "python zero_game.py\n",
    "```\n",
    "\n",
    "Below is a screengrab showing a human player defeating the `ZeroAgent`. The game ends when one of the agents successfully aligns four consecutive discs vertically, horizontally, or diagonally!\n",
    "\n",
    "![Winning against the ZeroAgent.](./images/zero-agent.png)"
   ]
  },
  {
   "cell_type": "markdown",
   "metadata": {},
   "source": [
    "## Task 1.1 Make a valid move\n",
    "\n",
    "Now that you understand the Connect4 game and are familiar with our `ConnectFour` environment, it's time to implement your own agent. Your task is to ensure that your agent makes a valid move within the given time limit (See [Contest Description](#Contest-Description)). The public test cases will only verify whether your agent meets these basic criteria. Once you've passed all test cases, you can proceed to the next two challenges, where you'll see if your agent can outplay two of our agents."
   ]
  },
  {
   "cell_type": "code",
   "execution_count": null,
   "metadata": {},
   "outputs": [],
   "source": [
    "import random\n",
    "\n",
    "\n",
    "class AIAgent(object):\n",
    "    \"\"\"\n",
    "    A class representing an agent that plays Connect Four.\n",
    "    \"\"\"\n",
    "    def __init__(self, player_id=1):\n",
    "        \"\"\"Initializes the agent with the specified player ID.\n",
    "\n",
    "        Parameters:\n",
    "        -----------\n",
    "        player_id : int\n",
    "            The ID of the player assigned to this agent (1 or 2).\n",
    "        \"\"\"\n",
    "        self.player_id = player_id\n",
    "    def make_move(self, state):\n",
    "        \"\"\"\n",
    "        Determines and returns the next move for the agent based on the current game state.\n",
    "\n",
    "        Parameters:\n",
    "        -----------\n",
    "        state : np.ndarray\n",
    "            A 2D numpy array representing the current, read-only state of the game board. \n",
    "            The board contains:\n",
    "            - 0 for an empty cell,\n",
    "            - 1 for Player 1's piece,\n",
    "            - 2 for Player 2's piece.\n",
    "\n",
    "        Returns:\n",
    "        --------\n",
    "        int\n",
    "            The valid action, ie. a valid column index (col_id) where this agent chooses to drop its piece.\n",
    "        \"\"\"\n",
    "        \"\"\" YOUR CODE HERE \"\"\"\n",
    "        numCols = state.shape[1]\n",
    "        validCols = [col for col in range(numCols) if state[0, col] == 0]\n",
    "        if not validCols:\n",
    "            raise ValueError(\"no valid moves\")\n",
    "        \n",
    "        return random.choice(validCols)\n",
    "        raise NotImplementedError\n",
    "        \"\"\" YOUR CODE END HERE \"\"\"\n",
    "\n",
    "# Test cases\n",
    "from utils import check_step, actions_to_board\n",
    "\n",
    "# Test case 1\n",
    "res1 = check_step(ConnectFour(), 1, AIAgent)\n",
    "assert(res1 == \"Pass\")\n",
    "\n",
    "# Test case 2\n",
    "res2 = check_step(actions_to_board([0, 0, 0, 0, 0, 0]), 1, AIAgent)\n",
    "assert(res2 == \"Pass\")\n",
    "\n",
    "# Test case 3\n",
    "res2 = check_step(actions_to_board([4, 3, 4, 5, 5, 1, 4, 4, 5, 5]), 1, AIAgent)\n",
    "assert(res2 == \"Pass\")"
   ]
  },
  {
   "cell_type": "markdown",
   "metadata": {
    "id": "J4pQSFqk5pi6"
   },
   "source": [
    "# Part 2: Contest - Implementing your own agent"
   ]
  },
  {
   "cell_type": "markdown",
   "metadata": {
    "id": "v7NPTROk6Dp9"
   },
   "source": [
    "## Contest Description\n",
    "\n",
    "### Grading\n",
    "\n",
    "This contest will account for $10\\%$ of your CS2109S grade, distributed as follows:\n",
    "\n",
    "- **10\\% - Report**: Submission will be done via the \"Assessment\" section on Coursemology, similar to Lecture Training.\n",
    "    - The report will be graded based on the appropriate application of any AI/ML techniques.\n",
    "    - Submission opens after the agent submission deadline: 23:59, 9 November 2024.\n",
    "    - The specific report format will be announced after the agent submission deadline.\n",
    "    - The report must be submitted by 23:59, 12 November 2024 (3 days after the agent submission deadline).\n",
    "- **40\\% - Performance against our agents**: Your agent will be tested in a manner similar to the 1v1 Contest, against opponents of varying difficulty levels. The performance against each of the 4 agents will carry equal weight in grading.\n",
    "    - Baby Agent (Task 2.1)\n",
    "    - Base Agent (Task 2.2)\n",
    "    - Hidden Agent 1\n",
    "    - Hidden Agent 2\n",
    "- **50\\% - 1v1 Contest**: Your agent will face off against other student-submitted agents in a head-to-head competition.\n",
    "    - The agent you submit for Task 2.2 will be used for the contest:\n",
    "        - Your agent will play against each other agent in two matches: one where your agent goes first, and one where it goes second.\n",
    "        - Each match is worth 1 point: \n",
    "            - If your agent wins a match, it earns 1 point.\n",
    "            - If your agent draws, it earns 0.5 points.\n",
    "        - Your agent total score will be the sum of the scores across all of its matches played.\n",
    "    - Your grade will be determined by your agent's total score in the contest.\n",
    "    - To help you assess your agent's performance, we will run a mock 1v1 contest featuring the agents submitted (either Task 2.1 or 2.2) up to that point.\n",
    "        - Results will be published periodically, beginning after the recess week.\n",
    "\n",
    "### Rules\n",
    "\n",
    "You must adhere to the following rules; failure to do so may result in the disqualification of your agent:\n",
    "\n",
    "1. You are to use any (AI/ML) techniques.\n",
    "1. You may use any dataset and you may generate more data as necessary:\n",
    "    1. We suggest using this [UCI - Connect-4](https://archive.ics.uci.edu/dataset/26/connect+4).\n",
    "1. Limitations:\n",
    "    1. The size of the submitted code should not exceed 1MB - We will validate this when we run the contest.\n",
    "    1. Task 2.1\n",
    "        1. The maximum number of attempts is 20.\n",
    "        1. Submission will only be available on Coursemology from 16 September 2024 to 13 October 2024.\n",
    "        1. After 13 October 2024, the attempt limit will be reduced to 1. Any unused attempts will be forfeited.\n",
    "        1. The submission here will be used to run the mock contest up till 13 October 2024.\n",
    "    1. Task 2.2\n",
    "        1. The maximum number of attempts is 20.\n",
    "        1. Submission will only be available on Coursemology from 13 October 2024 to 9 November 2024.\n",
    "        1. Your submission here will be used for the contest.\n",
    "    1. Every of your agent's API calls, must take less than 1 second (as measured on Coursemology). Keep in mind that Coursemology runs slower than local environments, so this time limit may be adjusted when running off-platform.\n",
    "        1. All of your agent's code should be contained within `__init__` and `make_move`.\n",
    "        1. If `__init__` takes more than 1 second, your agent will be disqualified.\n",
    "        1. If `make_move` takes more than 1 second, a random move will be made on its behalf.\n",
    "1. Your agent must be fully functional and capable of running on Coursemology.\n",
    "    1. It must work without any additional packages, other than those provided by Coursemology.\n",
    "    2. It must work without downloading any files/folders or calling external resources.\n",
    "    3. You may load weights of your models directly within your code. \n",
    "1. All work must be completed individually. Any external resources (e.g., datasets) must be properly cited.\n",
    "1. Your agent must operate fairly and must not engage in any form of cheating or malicious behavior."
   ]
  },
  {
   "cell_type": "markdown",
   "metadata": {
    "id": "XtMITSIQ6wXR"
   },
   "source": [
    "## Task 2.1: Defeat the Baby Agent\n",
    "\n",
    "In this task, your goal is to implement an agent capable of defeating the baby agent. This step helps you validate your agent’s basic functionality and strategy before facing more challenging opponents. Please note that the code submitted here is not your final implementation for the contest.\n",
    "\n",
    "Available on Coursemology from 16 September 2024 to 13 October 2024. After 13 October 2024, the attempt limit will be reduced to 1. Any unused attempts will be forfeited.\n",
    "\n",
    "**Important**: This test case may take some time to execute, and you are limited to 20 attempts for this question. Before proceeding, ensure that you paste only your `AIAgent` code here and that you've passed all test cases from the previous question. Additionally, make sure you have thoroughly tested your code locally before running these test cases."
   ]
  },
  {
   "cell_type": "code",
   "execution_count": null,
   "metadata": {
    "id": "SOF2JEoW5xJE"
   },
   "outputs": [],
   "source": [
    "class AIAgent(object):\n",
    "    \"\"\"\n",
    "    A class representing an agent that plays Connect Four.\n",
    "    \"\"\"\n",
    "    def __init__(self, player_id=1):\n",
    "        \"\"\"Initializes the agent with the specified player ID.\n",
    "\n",
    "        Parameters:\n",
    "        -----------\n",
    "        player_id : int\n",
    "            The ID of the player assigned to this agent (1 or 2).\n",
    "        \"\"\"\n",
    "        self.player_id = player_id\n",
    "    def make_move(self, state):\n",
    "\n",
    "\n",
    "\n",
    "        def is_valid_location(board, col):\n",
    "            return board[0][col] == 0\n",
    "\n",
    "        def get_valid_locations(board):\n",
    "            return [col for col in range(board.shape[1]) if is_valid_location(board, col)]\n",
    "\n",
    "        def get_next_open_row(board, col):\n",
    "            for row in range(board.shape[0] - 1, -1, -1):\n",
    "                if board[row][col] == 0:\n",
    "                    return row\n",
    "            return None\n",
    "\n",
    "        def drop_piece(board, row, col, piece):\n",
    "            board[row][col] = piece\n",
    "\n",
    "        def winning_move(board, piece):\n",
    "            ROW_COUNT = board.shape[0]\n",
    "            COLUMN_COUNT = board.shape[1]\n",
    "\n",
    "            # Check horizontal locations for win\n",
    "            for c in range(COLUMN_COUNT - 3):\n",
    "                for r in range(ROW_COUNT):\n",
    "                    if (\n",
    "                        board[r][c] == piece\n",
    "                        and board[r][c + 1] == piece\n",
    "                        and board[r][c + 2] == piece\n",
    "                        and board[r][c + 3] == piece\n",
    "                    ):\n",
    "                        return True\n",
    "\n",
    "            # Check vertical locations for win\n",
    "            for c in range(COLUMN_COUNT):\n",
    "                for r in range(ROW_COUNT - 3):\n",
    "                    if (\n",
    "                        board[r][c] == piece\n",
    "                        and board[r + 1][c] == piece\n",
    "                        and board[r + 2][c] == piece\n",
    "                        and board[r + 3][c] == piece\n",
    "                    ):\n",
    "                        return True\n",
    "\n",
    "            # Check positively sloped diagonals\n",
    "            for c in range(COLUMN_COUNT - 3):\n",
    "                for r in range(ROW_COUNT - 3):\n",
    "                    if (\n",
    "                        board[r][c] == piece\n",
    "                        and board[r + 1][c + 1] == piece\n",
    "                        and board[r + 2][c + 2] == piece\n",
    "                        and board[r + 3][c + 3] == piece\n",
    "                    ):\n",
    "                        return True\n",
    "\n",
    "            # Check negatively sloped diagonals\n",
    "            for c in range(COLUMN_COUNT - 3):\n",
    "                for r in range(3, ROW_COUNT):\n",
    "                    if (\n",
    "                        board[r][c] == piece\n",
    "                        and board[r - 1][c + 1] == piece\n",
    "                        and board[r - 2][c + 2] == piece\n",
    "                        and board[r - 3][c + 3] == piece\n",
    "                    ):\n",
    "                        return True\n",
    "\n",
    "            return False\n",
    "\n",
    "        def is_terminal_node(board):\n",
    "            return (\n",
    "                winning_move(board, self.player_id)\n",
    "                or winning_move(board, 3 - self.player_id)\n",
    "                or len(get_valid_locations(board)) == 0\n",
    "            )\n",
    "\n",
    "        def evaluate_window(window, piece):\n",
    "            score = 0\n",
    "            opp_piece = 3 - piece\n",
    "\n",
    "            if window.count(piece) == 4:\n",
    "                score += 100\n",
    "            elif window.count(piece) == 3 and window.count(0) == 1:\n",
    "                score += 5\n",
    "            elif window.count(piece) == 2 and window.count(0) == 2:\n",
    "                score += 2\n",
    "\n",
    "            if window.count(opp_piece) == 3 and window.count(0) == 1:\n",
    "                score -= 4\n",
    "\n",
    "            return score\n",
    "\n",
    "        def score_position(board, piece):\n",
    "            score = 0\n",
    "\n",
    "            # Score center column\n",
    "            center_array = [int(i) for i in list(board[:, board.shape[1] // 2])]\n",
    "            center_count = center_array.count(piece)\n",
    "            score += center_count * 3\n",
    "\n",
    "            # Score Horizontal\n",
    "            for r in range(board.shape[0]):\n",
    "                row_array = [int(i) for i in list(board[r, :])]\n",
    "                for c in range(board.shape[1] - 3):\n",
    "                    window = row_array[c : c + 4]\n",
    "                    score += evaluate_window(window, piece)\n",
    "\n",
    "            # Score Vertical\n",
    "            for c in range(board.shape[1]):\n",
    "                col_array = [int(i) for i in list(board[:, c])]\n",
    "                for r in range(board.shape[0] - 3):\n",
    "                    window = col_array[r : r + 4]\n",
    "                    score += evaluate_window(window, piece)\n",
    "\n",
    "            # Score positive sloped diagonal\n",
    "            for r in range(board.shape[0] - 3):\n",
    "                for c in range(board.shape[1] - 3):\n",
    "                    window = [board[r + i][c + i] for i in range(4)]\n",
    "                    score += evaluate_window(window, piece)\n",
    "\n",
    "            # Score negative sloped diagonal\n",
    "            for r in range(board.shape[0] - 3):\n",
    "                for c in range(board.shape[1] - 3):\n",
    "                    window = [board[r + 3 - i][c + i] for i in range(4)]\n",
    "                    score += evaluate_window(window, piece)\n",
    "\n",
    "            return score\n",
    "\n",
    "        def minimax(board, depth, alpha, beta, maximizingPlayer):\n",
    "            valid_locations = get_valid_locations(board)\n",
    "            is_terminal = is_terminal_node(board)\n",
    "            if depth == 0 or is_terminal:\n",
    "                if is_terminal:\n",
    "                    if winning_move(board, self.player_id):\n",
    "                        return (None, 100000000000000)\n",
    "                    elif winning_move(board, 3 - self.player_id):\n",
    "                        return (None, -10000000000000)\n",
    "                    else:\n",
    "                        return (None, 0)\n",
    "                else:\n",
    "                    return (None, score_position(board, self.player_id))\n",
    "            if maximizingPlayer:\n",
    "                value = -math.inf\n",
    "                best_col = random.choice(valid_locations)\n",
    "                for col in valid_locations:\n",
    "                    row = get_next_open_row(board, col)\n",
    "                    temp_board = board.copy()\n",
    "                    drop_piece(temp_board, row, col, self.player_id)\n",
    "                    new_score = minimax(temp_board, depth - 1, alpha, beta, False)[1]\n",
    "                    if new_score > value:\n",
    "                        value = new_score\n",
    "                        best_col = col\n",
    "                    alpha = max(alpha, value)\n",
    "                    if alpha >= beta:\n",
    "                        break\n",
    "                return best_col, value\n",
    "            else:\n",
    "                value = math.inf\n",
    "                best_col = random.choice(valid_locations)\n",
    "                for col in valid_locations:\n",
    "                    row = get_next_open_row(board, col)\n",
    "                    temp_board = board.copy()\n",
    "                    drop_piece(temp_board, row, col, 3 - self.player_id)\n",
    "                    new_score = minimax(temp_board, depth - 1, alpha, beta, True)[1]\n",
    "                    if new_score < value:\n",
    "                        value = new_score\n",
    "                        best_col = col\n",
    "                    beta = min(beta, value)\n",
    "                    if alpha >= beta:\n",
    "                        break\n",
    "                return best_col, value\n",
    "\n",
    "        valid_locations = get_valid_locations(state)\n",
    "        if not valid_locations:\n",
    "            raise ValueError(\"No valid moves\")\n",
    "        col, minimax_score = minimax(state.copy(), 7, -math.inf, math.inf, True)\n",
    "        if col is None:\n",
    "            col = random.choice(valid_locations)\n",
    "        return col\n",
    "    \"\"\" YOUR CODE END HERE \"\"\"\n",
    "    \n",
    "\n",
    "# Test cases\n",
    "assert(True)\n",
    "# Upload your code to Coursemology to test it against our agent."
   ]
  },
  {
   "cell_type": "markdown",
   "metadata": {
    "id": "uCQ7_juB7ks0"
   },
   "source": [
    "## Task 2.2: Defeat the Base Agent\n",
    "\n",
    "**The code you submit here will be your final implementation used for the 1v1 contest. Ensure that your agent is capable of competing effectively against the base agent.**\n",
    "\n",
    "Available on Coursemology from 13 October 2024 to 9 November 2024.\n",
    "\n",
    "**Important**: This test case may take some time to execute, and you are limited to 20 attempts for this question. Before proceeding, ensure that you paste only your `AIAgent` code here and that you've passed all test cases from the previous question. Additionally, make sure you have thoroughly tested your code locally before running these test cases."
   ]
  },
  {
   "cell_type": "code",
   "execution_count": null,
   "metadata": {
    "id": "TnEqpaNo-z2v"
   },
   "outputs": [],
   "source": [
    "class AIAgent(object):\n",
    "    \"\"\"\n",
    "    A class representing an agent that plays Connect Four.\n",
    "    \"\"\"\n",
    "    def __init__(self, player_id=1):\n",
    "        \"\"\"Initializes the agent with the specified player ID.\n",
    "\n",
    "        Parameters:\n",
    "        -----------\n",
    "        player_id : int\n",
    "            The ID of the player assigned to this agent (1 or 2).\n",
    "        \"\"\"\n",
    "        pass\n",
    "    def make_move(self, state):\n",
    "        \"\"\"\n",
    "        Determines and returns the next move for the agent based on the current game state.\n",
    "\n",
    "        Parameters:\n",
    "        -----------\n",
    "        state : np.ndarray\n",
    "            A 2D numpy array representing the current, read-only state of the game board. \n",
    "            The board contains:\n",
    "            - 0 for an empty cell,\n",
    "            - 1 for Player 1's piece,\n",
    "            - 2 for Player 2's piece.\n",
    "\n",
    "        Returns:\n",
    "        --------\n",
    "        int\n",
    "            The valid action, ie. a valid column index (col_id) where this agent chooses to drop its piece.\n",
    "        \"\"\"\n",
    "        \"\"\" YOUR CODE HERE \"\"\"\n",
    "        raise NotImplementedError\n",
    "        \"\"\" YOUR CODE END HERE \"\"\"\n",
    "\n",
    "# Test cases\n",
    "assert(True)\n",
    "# Upload your code to Coursemology to test it against our agent."
   ]
  },
  {
   "cell_type": "markdown",
   "metadata": {
    "id": "gv3IzLY8ISfY"
   },
   "source": [
    "# Submission"
   ]
  },
  {
   "cell_type": "markdown",
   "metadata": {
    "id": "kIPn-5PNJ8k5"
   },
   "source": [
    "Once you're ready, please submit your work to Coursemology by copying the relevant code snippets into the corresponding text boxes and saving After saving, you'll still have the opportunity to make changes to your submission.\n",
    "\n",
    "### Additional Notes:\n",
    "- Please ensure you carefully read the detailed submission instructions provided in the Coursemology question description.\n",
    "- For Task 1.1, Task 2.1 and Task 2.2, you will need to paste the same code. Only Task 2.2 will be used for the final contest.\n",
    "- Each public test case may take up some time to complete, please be patient.\n",
    "\n",
    "Once you're satisfied with your submission, click 'Finalize submission.' Be aware that after finalizing, your submission will be locked for grading and cannot be changed. If you need to undo this action, you will need to contact your assigned tutor for assistance. Please **do not finalize** your submission until you are certain you want to submit it for grading."
   ]
  }
 ],
 "metadata": {
  "colab": {
   "collapsed_sections": [],
   "name": "ps0.ipynb",
   "provenance": [],
   "toc_visible": true
  },
  "kernelspec": {
   "display_name": "cs2109s-ay2425s1",
   "language": "python",
   "name": "python3"
  },
  "language_info": {
   "codemirror_mode": {
    "name": "ipython",
    "version": 3
   },
   "file_extension": ".py",
   "mimetype": "text/x-python",
   "name": "python",
   "nbconvert_exporter": "python",
   "pygments_lexer": "ipython3",
   "version": "3.12.1"
  }
 },
 "nbformat": 4,
 "nbformat_minor": 4
}
